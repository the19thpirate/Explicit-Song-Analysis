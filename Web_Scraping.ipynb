{
  "nbformat": 4,
  "nbformat_minor": 0,
  "metadata": {
    "colab": {
      "name": "Web Scraping.ipynb",
      "provenance": []
    },
    "kernelspec": {
      "name": "python3",
      "display_name": "Python 3"
    },
    "language_info": {
      "name": "python"
    }
  },
  "cells": [
    {
      "cell_type": "markdown",
      "source": [
        "# Explicit Song Detection\n",
        "\n",
        "Motive:\n",
        "* A tool for parents to recommend songs that can be introduced to their children.\n",
        "* The end-goal of this project is to suggest which songs will be explicit and not suitable for children. The main content of the song can be suggested.\n",
        "\n",
        "Inputs: \n",
        "* The Song Name, Artist Name.\n",
        "\n",
        "Outputs:\n",
        "* Overall Sentiment of the song\n",
        "* Number of Explicit words used in the song\n",
        "* A WordCloud depicting the most used words in the song.\n",
        "* Recommendation if the song should be introduced to the child or not.\n"
      ],
      "metadata": {
        "id": "ZhfKiZQ80qEG"
      }
    },
    {
      "cell_type": "code",
      "source": [
        "# This package is needed, run this cell first\n",
        "!pip install lyricsgenius"
      ],
      "metadata": {
        "colab": {
          "base_uri": "https://localhost:8080/"
        },
        "id": "s8Y2gzqpSHC7",
        "outputId": "61eb247e-d1c1-4a58-a0e8-faeb05beb19c"
      },
      "execution_count": 1,
      "outputs": [
        {
          "output_type": "stream",
          "name": "stdout",
          "text": [
            "Collecting lyricsgenius\n",
            "  Downloading lyricsgenius-3.0.1-py3-none-any.whl (59 kB)\n",
            "\u001b[?25l\r\u001b[K     |█████▌                          | 10 kB 16.1 MB/s eta 0:00:01\r\u001b[K     |███████████                     | 20 kB 22.0 MB/s eta 0:00:01\r\u001b[K     |████████████████▌               | 30 kB 16.6 MB/s eta 0:00:01\r\u001b[K     |██████████████████████          | 40 kB 14.3 MB/s eta 0:00:01\r\u001b[K     |███████████████████████████▋    | 51 kB 7.9 MB/s eta 0:00:01\r\u001b[K     |████████████████████████████████| 59 kB 3.9 MB/s \n",
            "\u001b[?25hRequirement already satisfied: requests>=2.20.0 in /usr/local/lib/python3.7/dist-packages (from lyricsgenius) (2.23.0)\n",
            "Requirement already satisfied: beautifulsoup4>=4.6.0 in /usr/local/lib/python3.7/dist-packages (from lyricsgenius) (4.6.3)\n",
            "Requirement already satisfied: certifi>=2017.4.17 in /usr/local/lib/python3.7/dist-packages (from requests>=2.20.0->lyricsgenius) (2021.10.8)\n",
            "Requirement already satisfied: urllib3!=1.25.0,!=1.25.1,<1.26,>=1.21.1 in /usr/local/lib/python3.7/dist-packages (from requests>=2.20.0->lyricsgenius) (1.24.3)\n",
            "Requirement already satisfied: chardet<4,>=3.0.2 in /usr/local/lib/python3.7/dist-packages (from requests>=2.20.0->lyricsgenius) (3.0.4)\n",
            "Requirement already satisfied: idna<3,>=2.5 in /usr/local/lib/python3.7/dist-packages (from requests>=2.20.0->lyricsgenius) (2.10)\n",
            "Installing collected packages: lyricsgenius\n",
            "Successfully installed lyricsgenius-3.0.1\n"
          ]
        }
      ]
    },
    {
      "cell_type": "code",
      "execution_count": 23,
      "metadata": {
        "id": "qjRZ6VoWqTKY",
        "colab": {
          "base_uri": "https://localhost:8080/"
        },
        "outputId": "4c3048ff-f7bd-4df6-a455-df630ab72564"
      },
      "outputs": [
        {
          "output_type": "stream",
          "name": "stdout",
          "text": [
            "Searching for songs by Lil Nas X...\n",
            "\n",
            "\"Old Town Road (Remix)\" is not valid. Skipping.\n",
            "Song 1: \"Old Town Road\"\n",
            "Song 2: \"MONTERO (Call Me By Your Name)\"\n",
            "\n",
            "Reached user-specified song limit (2).\n",
            "Done. Found 2 songs.\n",
            "Searching for \"Industry Baby\" by Lil Nas X...\n",
            "Done.\n",
            "(D-D-Daytrip took it to ten, hey)\n",
            "Baby back, ayy, couple racks, ayy\n",
            "Couple Grammys on him, couple plaques, ayy\n",
            "That's a fact, ayy, throw it back, ayy\n",
            "Throw it back, ayy\n",
            "And this one is for the champions\n",
            "I ain't lost since I began, yeah\n",
            "Funny how you said it was the end, yeah\n",
            "Then I went did it again, yeah\n",
            "\n",
            "I told you long ago on the road\n",
            "I got what they waiting for\n",
            "I don't run from nothing, dog\n",
            "Get your soldiers, tell 'em I ain't layin' low\n",
            "You was never really rooting for me anyway\n",
            "When I'm back up at the top, I wanna hear you say\n",
            "He don't run from nothin', dog\n",
            "Get your soldiers, tell 'em that the break is over\n",
            "\n",
            "Uh, need to, uh\n",
            "Need to get this album done\n",
            "Need a couple number onеs\n",
            "Need a plaque on every song\n",
            "Need mе like one with Nicki now\n",
            "Tell a rap nigga I don't see ya, hah\n",
            "I'm a pop nigga like Bieber, hah\n",
            "I don't fuck bitches, I'm queer, hah\n",
            "But these niggas bitches like Madea, yeah, yeah, yeah, ayy (Yeah)\n",
            "Oh, let's do it\n",
            "I ain't fall off, I just ain't release my new shit\n",
            "I blew up, now everybody tryna sue me\n",
            "You call me Nas, but the hood call me Doobie, yeah\n",
            "And this one is for the champions\n",
            "I ain't lost since I began, yeah\n",
            "Funny how you said it was the end, yeah\n",
            "Then I went did it again, yeah\n",
            "\n",
            "I told you long ago on the road\n",
            "I got what they waiting for (I got what they're waiting for)\n",
            "I don't run from nothing, dog\n",
            "Get your soldiers, tell 'em I ain't layin' low (Bitch, I ain't runnin' from nowhere)\n",
            "You was never really rooting for me anyway (Ooh, ooh)\n",
            "When I'm back up at the top, I wanna hear you say (Ooh, ooh)\n",
            "He don't run from nothin', dog\n",
            "Get your soldiers, tell 'em that the break is over (Yeah)\n",
            "\n",
            "My track record so clean, they couldn't wait to just bash me\n",
            "I must be gettin' too flashy, y'all shouldn't have let the world gas me (Woo)\n",
            "It's too late 'cause I'm here to stay and these girls know that I'm nasty (Mmm)\n",
            "I sent her back to her boyfriend with my handprint on her ass cheek\n",
            "City talkin', we takin' notes\n",
            "Tell 'em all to keep makin' posts\n",
            "Wish he could, but he can't get close\n",
            "OG so proud of me that he chokin' up while he makin' toasts\n",
            "I'm the type that you can't control, said I would, then I made it so\n",
            "I don't clear up rumors (Ayy), where's y'all sense of humor? (Ayy)\n",
            "I'm done makin' jokes 'cause they got old like baby boomers\n",
            "Turned my haters to consumers, I make vets feel like they juniors (Juniors)\n",
            "Say your time is comin' soon, but just like Oklahoma (Mmm)\n",
            "Mine is comin' sooner (Mmm), I'm just a late bloomer (Mmm)\n",
            "I didn't peak in high school, I'm still out here gettin' cuter (Woo)\n",
            "All these social networks and computers\n",
            "Got these pussies walkin' 'round like they ain't losers\n",
            "I told you long ago on the road\n",
            "I got what they waiting for (I got what they waiting for)\n",
            "I don't run from nothing, dog\n",
            "Get your soldiers, tell 'em I ain't layin' low (Bitch, I ain't runnin' from nowhere)\n",
            "You was never really rooting for me anyway\n",
            "When I'm back up at the top, I wanna hear you say\n",
            "He don't run from nothin', dog\n",
            "Get your soldiers, tell 'em that the break is over\n",
            "Yeah\n",
            "I'm the industry baby, mmm\n",
            "I'm the industry baby\n",
            "Yeah137EmbedShare URLCopyEmbedCopy\n"
          ]
        }
      ],
      "source": [
        "# Import all the necessary packages\n",
        "from lyricsgenius import Genius\n",
        "\n",
        "# Authentication\n",
        "genius_api_token = \"tC9lC6GkylkaHjPKzt2TwaEa_TttWFLaGfq0CKcTq5J59Ghj3DWY-e1-ufbWHOC2\"\n",
        "base_url = \"https://api.genius.com\"\n",
        "\n",
        "genius = Genius(genius_api_token, skip_non_songs=True, excluded_terms=[\"(Remix)\", \"(Live)\"], remove_section_headers=True)\n",
        "\n",
        "artist = genius.search_artist(\"Lil Nas X\", max_songs = 2)\n",
        "song = artist.song(\"Industry Baby\")\n",
        "\n",
        "print(song.lyrics)"
      ]
    }
  ]
}