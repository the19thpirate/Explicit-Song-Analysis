{
 "cells": [
  {
   "cell_type": "markdown",
   "metadata": {},
   "source": [
    "### Motive:\n",
    "- A tool for parents to recommend songs that can be introduced to their children.\n",
    "- The end-goal of this project is to suggest which songs will be explicit and not suitable for children. The main content of the song can be suggested.\n",
    "\n",
    "### Inputs:\n",
    "- The Song Name, Artist Name.\n",
    "\n",
    "### Outputs:\n",
    "- Overall Sentiment of the song\n",
    "- Number of Explicit words used in the song\n",
    "- A WordCloud depicting the most used words in the song.\n",
    "- Recommendation if the song should be introduced to the child or not."
   ]
  },
  {
   "cell_type": "code",
   "execution_count": 248,
   "metadata": {},
   "outputs": [],
   "source": [
    "import pandas as pd\n",
    "from textblob import TextBlob as tb\n",
    "import matplotlib.pyplot as plt\n",
    "import nltk\n",
    "from nltk.stem.snowball import SnowballStemmer\n",
    "from nltk.corpus import stopwords\n",
    "import string"
   ]
  },
  {
   "cell_type": "code",
   "execution_count": 249,
   "metadata": {},
   "outputs": [],
   "source": [
    "#### Creating a word list of all explicit words\n",
    "\n",
    "e_words = ['fuck', 'asshole', 'shit', 'dick', 'dickhead', 'pussy', 'sex','sexy','role-play','roleplay', 'bitch', 'cunt'\n",
    "          ,'bloody', 'bugger', 'bastard', 'motherfucker', 'shag', 'wanker', 'wank', 'bollocks',\n",
    "          'whores', 'ass', 'weed', 'smoker','fucking','smoking', 'twat', 'swine', 'twit', 'hoe']\n",
    "\n",
    "stopwords = stopwords.words('English') + list(string.punctuation)"
   ]
  },
  {
   "cell_type": "markdown",
   "metadata": {},
   "source": [
    "### Modeling \n",
    "- Song Lyrics used : WAP by Cardi B"
   ]
  },
  {
   "cell_type": "code",
   "execution_count": 229,
   "metadata": {},
   "outputs": [],
   "source": [
    "lyrics_1 = \"\"\"\n",
    "Whores in this house\n",
    "There's some whores in this house\n",
    "There's some whores in this house\n",
    "There's some whores in this house (hol' up)\n",
    "I said certified freak, seven days a week\n",
    "Wet ass pussy, make that pullout game weak, woo! (Ah)\n",
    "Yeah, yeah, yeah, yeah\n",
    "Yeah, you fucking with some wet ass pussy\n",
    "Bring a bucket and a mop for this wet ass pussy\n",
    "Give me everything you got for this wet ass pussy\n",
    "Beat it up, nigga, catch a charge\n",
    "Extra large and extra hard\n",
    "Put this pussy right in yo' face\n",
    "Swipe your nose like a credit card\n",
    "Hop on top, I want a ride\n",
    "I do a kegel while it's inside\n",
    "Spit in my mouth, look at my eyes\n",
    "This pussy is wet, come take a dive\n",
    "Tie me up like I'm surprised\n",
    "Let's role-play, I wear a disguise\n",
    "I want you to park that big Mack truck right in this little garage\n",
    "Make it cream, make me scream\n",
    "Out in public, make a scene\n",
    "I don't cook, I don't clean\n",
    "But let me tell you, I got this ring (ayy, ayy)\n",
    "Gobble me, swallow me, drip down the side of me (yeah)\n",
    "Quick, jump out 'fore you let it get inside of me (yeah)\n",
    "I tell him where to put it, never tell him where I'm 'bout to be\n",
    "I run down on him 'fore I have a nigga running me\n",
    "Talk yo' shit, bite your lip\n",
    "Ask for a car while you ride that dick (while you ride that dick)\n",
    "You ain't never gotta fuck him for a thing\n",
    "He already made his mind up 'fore he came\n",
    "Now get your boots and your coat for this wet ass pussy\n",
    "He bought a phone just for pictures of this wet ass pussy\n",
    "Pay my tuition just to kiss me on this wet ass pussy\n",
    "Now make it rain if you wanna see some wet ass pussy\n",
    "Look, I need a hard hitter, I need a deep stroke\n",
    "I need a Henny drink, I need a weed smoker\n",
    "Not a garden snake, I need a king cobra\n",
    "With a hook in it, hope it lean over\n",
    "He got some money, then that's where I'm headed\n",
    "Pussy A-1, just like his credit\n",
    "He got a beard, well, I'm tryna wet it\n",
    "I let him taste it, and now he diabetic\n",
    "I don't wanna spit, I wanna gulp\n",
    "I wanna gag, I wanna choke\n",
    "I want you to touch that lil' dangly thing that swing in the back of my throat\n",
    "My head game is fire, punani Dasani\n",
    "It's going in dry, and it's coming out soggy\n",
    "I ride on that thing like the cops is behind me (yuh, ah)\n",
    "I spit on his mic' and now he tryna sign me, woo\n",
    "Your honor, I'm a freak bitch, handcuffs, leashes\n",
    "Switch my wig, make him feel like he cheating\n",
    "Put him on his knees, give him some' to believe in\n",
    "Never lost a fight, but I'm looking for a beating\n",
    "In the food chain, I'm the one that eat ya\n",
    "If he ate my ass, he's a bottom feeder\n",
    "Big D stand for big demeanor\n",
    "I could make ya bust before I ever meet ya\n",
    "If it don't hang, then he can't bang\n",
    "You can't hurt my feelings, but I like pain\n",
    "If he fuck me and ask, \"Whose is it?\"\n",
    "When I ride the dick, I'ma spell my name, ah\n",
    "Yeah, yeah, yeah\n",
    "Yeah, you fucking with some wet ass pussy\n",
    "Bring a bucket and a mop for this wet ass pussy\n",
    "Give me everything you got for this wet ass pussy\n",
    "Now from the top, make it drop, that's some wet ass pussy\n",
    "Now get a bucket and a mop, that's some wet ass pussy\n",
    "I'm talking WAP, WAP, WAP, that's some wet ass pussy\n",
    "Macaroni in a pot, that's some wet ass pussy, huh\n",
    "There's some whores in this house\n",
    "There's some whores in this house\n",
    "There's some whores in this house\n",
    "There's some whores in this house\n",
    "There's some whores in this house\n",
    "There's some whores in this house\n",
    "There's some whores in this house\n",
    "There's some whores in this house\n",
    "There's some whores in this house\n",
    "There's some whores in this house\n",
    "There's some whores in this house\n",
    "There's some whores...\n",
    "\"\"\""
   ]
  },
  {
   "cell_type": "markdown",
   "metadata": {},
   "source": [
    "#### Tokenization for Explicit Words"
   ]
  },
  {
   "cell_type": "code",
   "execution_count": 213,
   "metadata": {},
   "outputs": [],
   "source": [
    "def tokenize(lyrics):\n",
    "    ### For Explicit Words\n",
    "    lyrics = lyrics.replace('\\W+', '').replace('[1-9]', '')\n",
    "    all_words = [w for w in lyrics.lower().split()]\n",
    "    explicit_commons = [word for word in all_words if word in e_words]\n",
    "    explicit_freq = nltk.FreqDist(explicit_commons).most_common(10)\n",
    "    \n",
    "    result = pd.DataFrame(explicit_freq, columns = ['Words', 'Count'])\n",
    "    return explicit_commons, result"
   ]
  },
  {
   "cell_type": "code",
   "execution_count": 194,
   "metadata": {},
   "outputs": [],
   "source": [
    "explicit_commons, result = tokenize(lyrics_1)"
   ]
  },
  {
   "cell_type": "markdown",
   "metadata": {},
   "source": [
    "#### Most Words used in the song "
   ]
  },
  {
   "cell_type": "code",
   "execution_count": 215,
   "metadata": {},
   "outputs": [],
   "source": [
    "def tokenize_2(lyrics):\n",
    "    lyrics = lyrics.replace('\\W+', '').replace('[1-9]', '').replace(',', '').replace(\"'\", '')\n",
    "    all_words = [w for w in lyrics.lower().split()]\n",
    "    all_words_clean = [word for word in all_words if word not in stopwords]\n",
    "    clean_words_freq = nltk.FreqDist(explicit_commons).most_common(10)\n",
    "    result = pd.DataFrame(explicit_freq, columns = ['Words', 'Count'])\n",
    "    return all_words_clean, result"
   ]
  },
  {
   "cell_type": "code",
   "execution_count": 207,
   "metadata": {},
   "outputs": [],
   "source": [
    "explicit_commons, result_2 = tokenize_2(lyrics_1)"
   ]
  },
  {
   "cell_type": "code",
   "execution_count": 208,
   "metadata": {},
   "outputs": [
    {
     "data": {
      "text/html": [
       "<div>\n",
       "<style scoped>\n",
       "    .dataframe tbody tr th:only-of-type {\n",
       "        vertical-align: middle;\n",
       "    }\n",
       "\n",
       "    .dataframe tbody tr th {\n",
       "        vertical-align: top;\n",
       "    }\n",
       "\n",
       "    .dataframe thead th {\n",
       "        text-align: right;\n",
       "    }\n",
       "</style>\n",
       "<table border=\"1\" class=\"dataframe\">\n",
       "  <thead>\n",
       "    <tr style=\"text-align: right;\">\n",
       "      <th></th>\n",
       "      <th>Words</th>\n",
       "      <th>Count</th>\n",
       "    </tr>\n",
       "  </thead>\n",
       "  <tbody>\n",
       "    <tr>\n",
       "      <th>0</th>\n",
       "      <td>pussy</td>\n",
       "      <td>18</td>\n",
       "    </tr>\n",
       "    <tr>\n",
       "      <th>1</th>\n",
       "      <td>wet</td>\n",
       "      <td>17</td>\n",
       "    </tr>\n",
       "    <tr>\n",
       "      <th>2</th>\n",
       "      <td>ass</td>\n",
       "      <td>16</td>\n",
       "    </tr>\n",
       "    <tr>\n",
       "      <th>3</th>\n",
       "      <td>whores</td>\n",
       "      <td>15</td>\n",
       "    </tr>\n",
       "    <tr>\n",
       "      <th>4</th>\n",
       "      <td>house</td>\n",
       "      <td>15</td>\n",
       "    </tr>\n",
       "    <tr>\n",
       "      <th>5</th>\n",
       "      <td>theres</td>\n",
       "      <td>15</td>\n",
       "    </tr>\n",
       "    <tr>\n",
       "      <th>6</th>\n",
       "      <td>yeah</td>\n",
       "      <td>9</td>\n",
       "    </tr>\n",
       "    <tr>\n",
       "      <th>7</th>\n",
       "      <td>make</td>\n",
       "      <td>8</td>\n",
       "    </tr>\n",
       "    <tr>\n",
       "      <th>8</th>\n",
       "      <td>im</td>\n",
       "      <td>8</td>\n",
       "    </tr>\n",
       "    <tr>\n",
       "      <th>9</th>\n",
       "      <td>like</td>\n",
       "      <td>6</td>\n",
       "    </tr>\n",
       "  </tbody>\n",
       "</table>\n",
       "</div>"
      ],
      "text/plain": [
       "    Words  Count\n",
       "0   pussy     18\n",
       "1     wet     17\n",
       "2     ass     16\n",
       "3  whores     15\n",
       "4   house     15\n",
       "5  theres     15\n",
       "6    yeah      9\n",
       "7    make      8\n",
       "8      im      8\n",
       "9    like      6"
      ]
     },
     "execution_count": 208,
     "metadata": {},
     "output_type": "execute_result"
    }
   ],
   "source": [
    "result_2"
   ]
  },
  {
   "cell_type": "markdown",
   "metadata": {},
   "source": [
    "#### Sentiment Analysis "
   ]
  },
  {
   "cell_type": "code",
   "execution_count": 143,
   "metadata": {},
   "outputs": [],
   "source": [
    "def Subjectivity(text):\n",
    "    return tb(text).sentiment.subjectivity\n",
    "\n",
    "def Polarity(text):\n",
    "    return tb(text).sentiment.polarity\n",
    "\n",
    "## Analysis of polarity\n",
    "def Analysis(score):\n",
    "    if score > 0:\n",
    "        return 'Positive'\n",
    "    elif score < 0:\n",
    "        return 'Negative'\n",
    "    else:\n",
    "        return 'Neutral'"
   ]
  },
  {
   "cell_type": "code",
   "execution_count": 144,
   "metadata": {},
   "outputs": [
    {
     "name": "stdout",
     "output_type": "stream",
     "text": [
      "Subjectivity:  0.4344328703703703\n",
      "Polarity:  -0.08607597552910053\n",
      "Overall Analysis:  Negative\n"
     ]
    }
   ],
   "source": [
    "print('Subjectivity: ', Subjectivity(lyrics_1))\n",
    "print('Polarity: ', Polarity(lyrics_1))\n",
    "print('Overall Analysis: ', Analysis(Polarity(lyrics_1)))"
   ]
  },
  {
   "cell_type": "markdown",
   "metadata": {},
   "source": [
    "#### Clubbing "
   ]
  },
  {
   "cell_type": "code",
   "execution_count": 268,
   "metadata": {},
   "outputs": [],
   "source": [
    "### Defining a class which holds all the files\n",
    "\n",
    "class Tokens:\n",
    "    \n",
    "    def __init__(self, lyrics):\n",
    "        self.lyrics = lyrics\n",
    "    \n",
    "    def tokenize_1(self):\n",
    "       ### For Explicit Words\n",
    "        lyrics = self.replace('\\W+', '').replace('[1-9]', '')\n",
    "        all_words = [w for w in self.lower().split()]\n",
    "        explicit_commons = [word for word in all_words if word in e_words]\n",
    "        explicit_freq = nltk.FreqDist(explicit_commons).most_common(10)\n",
    "    \n",
    "        result = pd.DataFrame(explicit_freq, columns = ['Words', 'Count'])\n",
    "        return explicit_commons, result_1\n",
    "    \n",
    "    def tokenize_2(self):\n",
    "        ### For Normal Words\n",
    "        \n",
    "        lyrics = self.replace('\\W+', '').replace('[1-9]', '').replace(',', '').replace(\"'\", '')\n",
    "        all_words = [w for w in lyrics.lower().split()]\n",
    "        all_words_clean = [word for word in all_words if word not in stopwords]\n",
    "        clean_words_freq = nltk.FreqDist(all_words_clean).most_common(10)\n",
    "        \n",
    "        result_2 = pd.DataFrame(clean_words_freq, columns = ['Words', 'Count'])\n",
    "        return all_words_clean, result_2\n",
    "    \n",
    "    ### Sentiment Analysis\n",
    "\n",
    "class Subject:\n",
    "    \n",
    "    def __init__(self, lyrics, score):\n",
    "        self.lyrics = lyrics\n",
    "        self.score = score\n",
    "        \n",
    "    def Subjectivity(self):\n",
    "        return tb(self).sentiment.subjectivity\n",
    "\n",
    "    def Polarity(self):\n",
    "        return tb(self).sentiment.polarity\n",
    "\n",
    "    ## Analysis of polarity\n",
    "    def Analysis(self):\n",
    "        if self > 0:\n",
    "            return 'Positive'\n",
    "        elif self < 0:\n",
    "            return 'Negative'\n",
    "        else:\n",
    "            return 'Neutral'"
   ]
  },
  {
   "cell_type": "markdown",
   "metadata": {},
   "source": [
    "### Explicit Words"
   ]
  },
  {
   "cell_type": "code",
   "execution_count": 251,
   "metadata": {},
   "outputs": [],
   "source": [
    "explicit_commons, result_1 = Tokens.tokenize_1(lyrics_1)"
   ]
  },
  {
   "cell_type": "code",
   "execution_count": 252,
   "metadata": {},
   "outputs": [
    {
     "data": {
      "text/html": [
       "<div>\n",
       "<style scoped>\n",
       "    .dataframe tbody tr th:only-of-type {\n",
       "        vertical-align: middle;\n",
       "    }\n",
       "\n",
       "    .dataframe tbody tr th {\n",
       "        vertical-align: top;\n",
       "    }\n",
       "\n",
       "    .dataframe thead th {\n",
       "        text-align: right;\n",
       "    }\n",
       "</style>\n",
       "<table border=\"1\" class=\"dataframe\">\n",
       "  <thead>\n",
       "    <tr style=\"text-align: right;\">\n",
       "      <th></th>\n",
       "      <th>Words</th>\n",
       "      <th>Count</th>\n",
       "    </tr>\n",
       "  </thead>\n",
       "  <tbody>\n",
       "    <tr>\n",
       "      <th>0</th>\n",
       "      <td>pussy</td>\n",
       "      <td>16</td>\n",
       "    </tr>\n",
       "    <tr>\n",
       "      <th>1</th>\n",
       "      <td>whores</td>\n",
       "      <td>15</td>\n",
       "    </tr>\n",
       "    <tr>\n",
       "      <th>2</th>\n",
       "      <td>ass</td>\n",
       "      <td>15</td>\n",
       "    </tr>\n",
       "    <tr>\n",
       "      <th>3</th>\n",
       "      <td>fucking</td>\n",
       "      <td>2</td>\n",
       "    </tr>\n",
       "    <tr>\n",
       "      <th>4</th>\n",
       "      <td>fuck</td>\n",
       "      <td>2</td>\n",
       "    </tr>\n",
       "    <tr>\n",
       "      <th>5</th>\n",
       "      <td>dick</td>\n",
       "      <td>1</td>\n",
       "    </tr>\n",
       "    <tr>\n",
       "      <th>6</th>\n",
       "      <td>weed</td>\n",
       "      <td>1</td>\n",
       "    </tr>\n",
       "    <tr>\n",
       "      <th>7</th>\n",
       "      <td>smoker</td>\n",
       "      <td>1</td>\n",
       "    </tr>\n",
       "  </tbody>\n",
       "</table>\n",
       "</div>"
      ],
      "text/plain": [
       "     Words  Count\n",
       "0    pussy     16\n",
       "1   whores     15\n",
       "2      ass     15\n",
       "3  fucking      2\n",
       "4     fuck      2\n",
       "5     dick      1\n",
       "6     weed      1\n",
       "7   smoker      1"
      ]
     },
     "execution_count": 252,
     "metadata": {},
     "output_type": "execute_result"
    }
   ],
   "source": [
    "result_1"
   ]
  },
  {
   "cell_type": "markdown",
   "metadata": {},
   "source": [
    "### Most Used Words"
   ]
  },
  {
   "cell_type": "code",
   "execution_count": 262,
   "metadata": {},
   "outputs": [
    {
     "data": {
      "text/html": [
       "<div>\n",
       "<style scoped>\n",
       "    .dataframe tbody tr th:only-of-type {\n",
       "        vertical-align: middle;\n",
       "    }\n",
       "\n",
       "    .dataframe tbody tr th {\n",
       "        vertical-align: top;\n",
       "    }\n",
       "\n",
       "    .dataframe thead th {\n",
       "        text-align: right;\n",
       "    }\n",
       "</style>\n",
       "<table border=\"1\" class=\"dataframe\">\n",
       "  <thead>\n",
       "    <tr style=\"text-align: right;\">\n",
       "      <th></th>\n",
       "      <th>Words</th>\n",
       "      <th>Count</th>\n",
       "    </tr>\n",
       "  </thead>\n",
       "  <tbody>\n",
       "    <tr>\n",
       "      <th>0</th>\n",
       "      <td>pussy</td>\n",
       "      <td>18</td>\n",
       "    </tr>\n",
       "    <tr>\n",
       "      <th>1</th>\n",
       "      <td>wet</td>\n",
       "      <td>17</td>\n",
       "    </tr>\n",
       "    <tr>\n",
       "      <th>2</th>\n",
       "      <td>ass</td>\n",
       "      <td>16</td>\n",
       "    </tr>\n",
       "    <tr>\n",
       "      <th>3</th>\n",
       "      <td>whores</td>\n",
       "      <td>15</td>\n",
       "    </tr>\n",
       "    <tr>\n",
       "      <th>4</th>\n",
       "      <td>house</td>\n",
       "      <td>15</td>\n",
       "    </tr>\n",
       "    <tr>\n",
       "      <th>5</th>\n",
       "      <td>theres</td>\n",
       "      <td>15</td>\n",
       "    </tr>\n",
       "    <tr>\n",
       "      <th>6</th>\n",
       "      <td>yeah</td>\n",
       "      <td>9</td>\n",
       "    </tr>\n",
       "    <tr>\n",
       "      <th>7</th>\n",
       "      <td>make</td>\n",
       "      <td>8</td>\n",
       "    </tr>\n",
       "    <tr>\n",
       "      <th>8</th>\n",
       "      <td>im</td>\n",
       "      <td>8</td>\n",
       "    </tr>\n",
       "    <tr>\n",
       "      <th>9</th>\n",
       "      <td>like</td>\n",
       "      <td>6</td>\n",
       "    </tr>\n",
       "  </tbody>\n",
       "</table>\n",
       "</div>"
      ],
      "text/plain": [
       "    Words  Count\n",
       "0   pussy     18\n",
       "1     wet     17\n",
       "2     ass     16\n",
       "3  whores     15\n",
       "4   house     15\n",
       "5  theres     15\n",
       "6    yeah      9\n",
       "7    make      8\n",
       "8      im      8\n",
       "9    like      6"
      ]
     },
     "execution_count": 262,
     "metadata": {},
     "output_type": "execute_result"
    }
   ],
   "source": [
    "all_words_clean, result_2 = Tokens.tokenize_2(lyrics_1)\n",
    "result_2"
   ]
  },
  {
   "cell_type": "markdown",
   "metadata": {},
   "source": [
    "### Polarity Analysis "
   ]
  },
  {
   "cell_type": "code",
   "execution_count": 270,
   "metadata": {},
   "outputs": [
    {
     "name": "stdout",
     "output_type": "stream",
     "text": [
      "Subjectivity:  0.4344328703703703\n",
      "Polarity:  -0.08607597552910053\n",
      "Verdict:  Negative\n"
     ]
    }
   ],
   "source": [
    "print('Subjectivity: ', Subject.Subjectivity(lyrics_1))\n",
    "print('Polarity: ', Subject.Polarity(lyrics_1))\n",
    "print('Verdict: ', Subject.Analysis(Subject.Polarity(lyrics_1)))"
   ]
  },
  {
   "cell_type": "code",
   "execution_count": null,
   "metadata": {},
   "outputs": [],
   "source": []
  }
 ],
 "metadata": {
  "kernelspec": {
   "display_name": "Python 3",
   "language": "python",
   "name": "python3"
  },
  "language_info": {
   "codemirror_mode": {
    "name": "ipython",
    "version": 3
   },
   "file_extension": ".py",
   "mimetype": "text/x-python",
   "name": "python",
   "nbconvert_exporter": "python",
   "pygments_lexer": "ipython3",
   "version": "3.8.5"
  }
 },
 "nbformat": 4,
 "nbformat_minor": 4
}
